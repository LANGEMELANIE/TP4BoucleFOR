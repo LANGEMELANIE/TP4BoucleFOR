{
 "cells": [
  {
   "cell_type": "markdown",
   "id": "16d1451b",
   "metadata": {},
   "source": [
    "# TP 4 Introduction 1 Boucle bornée - La tortue Python"
   ]
  },
  {
   "cell_type": "markdown",
   "id": "4ee63f4c",
   "metadata": {},
   "source": [
    "Une tortue graphique est une manière bien connue et intuitive pour initier les enfants au monde de la programmation. Un tel module faisait partie initialement du langage de programmation Logo créé par Wally Feurzig et Seymout Papert en 1967."
   ]
  },
  {
   "cell_type": "markdown",
   "id": "673deae5",
   "metadata": {},
   "source": [
    "Imaginez un robot sous forme de tortue partant au centre (0, 0) d'un repère cartésien du plan. Après un \"import turtle\", exécutez la commande \"turtle.forward(15)\" et la tortue se déplace (sur l'écran) de 15 pixels en face d'elle, en dessinant une ligne."
   ]
  },
  {
   "cell_type": "markdown",
   "id": "3f5092cf",
   "metadata": {},
   "source": [
    "## 1. Exécuter la cellule de code suivante :"
   ]
  },
  {
   "cell_type": "code",
   "execution_count": null,
   "id": "8c92cd86",
   "metadata": {},
   "outputs": [],
   "source": [
    "import turtle\n",
    "turtle.forward(15)    # Une fenêtre s'ouvre\n",
    "turtle.exitonclick()  # Attend un clic avant de fermer la fenetre"
   ]
  },
  {
   "cell_type": "markdown",
   "id": "1d4b4f9e",
   "metadata": {},
   "source": [
    "## 2. Fonctionnalités principales :"
   ]
  },
  {
   "cell_type": "markdown",
   "id": "325ab565",
   "metadata": {},
   "source": [
    "Il est possible de commander le paramétrage du crayon par :\n",
    "\n",
    "    turtle.down() qui abaisse le stylo\n",
    "    turtle.up() qui relève le stylo\n",
    "    turtle.pensize(width) qui change l’épaisseur du trait\n",
    "    turtle.pencolor(color) qui change la couleur (\"red\", \"green\", \"blue\"… ou un triplet de paramètres (r, g, b))\n"
   ]
  },
  {
   "cell_type": "markdown",
   "id": "8e8dd370",
   "metadata": {},
   "source": [
    "On déplace la tortue avec\n",
    "\n",
    "    turtle.forward(length) qui avance d’un nombre de pas donné\n",
    "    turtle.backward(length) qui recule d’un nombre de pas donné\n",
    "    turtle.right(angle) qui tourne vers la droite d’un angle donné (en degrés)\n",
    "    turtle.left(angle) qui tourne vers la gauched’un angle donné (en degrés)\n"
   ]
  },
  {
   "cell_type": "markdown",
   "id": "e287511b",
   "metadata": {},
   "source": [
    "On peut également déplacer la tortue à un point donné ou modifier son orientation avec\n",
    "\n",
    "    turtle.goto(x,y) qui déplace la tortue jusqu’au point (x, y)\n",
    "    turtle.setheading(angle) qui oriente la tortue à l’angle donné en degrés, le 0° étant à l’est, le 90° au nord, etc.\n"
   ]
  },
  {
   "cell_type": "markdown",
   "id": "2227c21c",
   "metadata": {},
   "source": [
    "Au départ, la tortue est en (0, 0), orientée à 0°.\n",
    "\n",
    "La fenêtre par défaut est 950 = 2 × 475 pixels de large et 800 = 2 × 400 pixels de haut. Le point (0, 0) est au centre de l’écran.\n",
    "\n",
    "Il est possible de modifier cette fenêtre avec\n",
    "\n",
    "    turtle.setup(width, height) qui définit les tailles en pixels de la largeur et hauteur de la fenêtre\n",
    "    turtle.clear() qui efface tout ce qui a été tracé ou écrit dans la fenêtre.\n"
   ]
  },
  {
   "cell_type": "markdown",
   "id": "092828db",
   "metadata": {},
   "source": [
    "## 3. Un exemple :"
   ]
  },
  {
   "cell_type": "code",
   "execution_count": null,
   "id": "4021e7cf",
   "metadata": {},
   "outputs": [],
   "source": [
    "import turtle\n",
    "\n",
    "turtle.pendown()\n",
    "turtle.goto(-200,-200)\n",
    "turtle.setheading(45)\n",
    "turtle.exitonclick()  # Attend un clic avant de fermer la fenetre"
   ]
  },
  {
   "cell_type": "markdown",
   "id": "db3c4495",
   "metadata": {},
   "source": [
    "## 4. Tracer un carré de côté 100 pixels :"
   ]
  },
  {
   "cell_type": "markdown",
   "id": "4b5901d4",
   "metadata": {},
   "source": [
    "**Compléter le programme suivant pour tracer un carré :**"
   ]
  },
  {
   "cell_type": "code",
   "execution_count": null,
   "id": "d1c520a3",
   "metadata": {},
   "outputs": [],
   "source": [
    "import turtle\n",
    "turtle.clear() \n",
    "turtle.pendown()\n",
    "turtle.forward(100)\n",
    "turtle.right(90)\n",
    "turtle.forward(100)\n",
    "#...\n",
    "turtle.exitonclick() "
   ]
  },
  {
   "cell_type": "markdown",
   "id": "61f525a4",
   "metadata": {},
   "source": [
    "-> Ecrire votre programme dans la cellule de code ci-dessous :"
   ]
  },
  {
   "cell_type": "code",
   "execution_count": null,
   "id": "b81c5dbe",
   "metadata": {},
   "outputs": [],
   "source": []
  },
  {
   "cell_type": "markdown",
   "id": "176be0cc",
   "metadata": {},
   "source": [
    "On remarque que ce programme **répète 4 fois le même bloc de 2 instructions.**"
   ]
  },
  {
   "cell_type": "markdown",
   "id": "809de9b2",
   "metadata": {},
   "source": [
    "**Pour automatiser cette répétition, on peut réaliser une boucle à l'aide de l'instruction for :**"
   ]
  },
  {
   "cell_type": "code",
   "execution_count": null,
   "id": "a08c202d",
   "metadata": {},
   "outputs": [],
   "source": [
    "import turtle\n",
    "turtle.clear() \n",
    "turtle.pendown()\n",
    "for i in range(4) :       #Pour i allant de 0 à 3\n",
    "    turtle.forward(100)   #Première instruction du corps de la boucle\n",
    "    turtle.right(90)      #Deuxième instruction du corps de la boucle\n",
    "turtle.exitonclick()      #Cette ligne ne fait pas partie du corps de la boucle"
   ]
  },
  {
   "cell_type": "markdown",
   "id": "a2ec4458",
   "metadata": {},
   "source": [
    "**La variable i est ce qu'on appelle le compteur de la boucle.**"
   ]
  },
  {
   "cell_type": "markdown",
   "id": "829cdf43",
   "metadata": {},
   "source": [
    "**La fonction range() peut être appelée avec 2 arguments : range(a,b).**"
   ]
  },
  {
   "cell_type": "markdown",
   "id": "fd2080e2",
   "metadata": {},
   "source": [
    "**L'appel de fonction \"range(a,b)\" énumère tous les entiers de a à b-1 inclus.**"
   ]
  },
  {
   "cell_type": "markdown",
   "id": "242c73e6",
   "metadata": {},
   "source": [
    "**range(0,b) est équivalent à range(b)**"
   ]
  },
  {
   "cell_type": "markdown",
   "id": "51703bd0",
   "metadata": {},
   "source": [
    "-> Exécuter la cellule de code suivante : "
   ]
  },
  {
   "cell_type": "code",
   "execution_count": null,
   "id": "0b573dcb",
   "metadata": {},
   "outputs": [],
   "source": [
    "for i in range(10):\n",
    "    print(i)"
   ]
  },
  {
   "cell_type": "markdown",
   "id": "e8906e57",
   "metadata": {},
   "source": [
    "**La variable i a pris successivement les valeurs entières de 0 à 9.**"
   ]
  },
  {
   "cell_type": "markdown",
   "id": "b6453221",
   "metadata": {},
   "source": [
    "## 5. Tracer un carré de côté variable :"
   ]
  },
  {
   "cell_type": "markdown",
   "id": "435acd25",
   "metadata": {},
   "source": [
    "Pour changer la taille du carré, il faudrait changer plusieurs fois la valeur 100 dans notre programme précédent !\n",
    "Il existe une solution efficace : créer une nouvelle commande de la tortue qui permette de dessiner un carré de côté variable. "
   ]
  },
  {
   "cell_type": "markdown",
   "id": "1251b581",
   "metadata": {},
   "source": [
    "**Une fonction permet d'encapsuler un bloc d'instructions et de lui donner un nom.** "
   ]
  },
  {
   "cell_type": "markdown",
   "id": "a1048d07",
   "metadata": {},
   "source": [
    "-> Ecrire une fonction de nom carre et de paramètre c. "
   ]
  },
  {
   "cell_type": "markdown",
   "id": "cdf6f931",
   "metadata": {},
   "source": [
    "**Le paramètre c permet de transmettre la valeur du côté du carré au corps de la fonction !**"
   ]
  },
  {
   "cell_type": "code",
   "execution_count": null,
   "id": "08842199",
   "metadata": {},
   "outputs": [],
   "source": []
  },
  {
   "cell_type": "markdown",
   "id": "58b65fcf",
   "metadata": {},
   "source": [
    "## 6. Tracer une figure composée de plusieurs carrés :"
   ]
  },
  {
   "cell_type": "markdown",
   "id": "b0bedf2b",
   "metadata": {},
   "source": [
    "-> Exécuter la cellule de code ci-dessous :"
   ]
  },
  {
   "cell_type": "code",
   "execution_count": null,
   "id": "b26aa707",
   "metadata": {},
   "outputs": [],
   "source": [
    "import turtle\n",
    "turtle.clear()\n",
    "def carre(c):\n",
    "    turtle.pendown()\n",
    "    for i in range(4) :       #Pour i allant de 0 à 3\n",
    "        turtle.left(90) \n",
    "        turtle.forward(c)\n",
    "carre(100)\n",
    "turtle.exitonclick()"
   ]
  },
  {
   "cell_type": "markdown",
   "id": "66b2fc8c",
   "metadata": {},
   "source": [
    "-> Ecrire le programme qui permettra d'obtenir cette figure :"
   ]
  },
  {
   "cell_type": "markdown",
   "id": "175c7548",
   "metadata": {},
   "source": [
    "![](tortueSNT1.PNG)"
   ]
  },
  {
   "cell_type": "code",
   "execution_count": null,
   "id": "add93e20",
   "metadata": {},
   "outputs": [],
   "source": []
  },
  {
   "cell_type": "markdown",
   "id": "22d89feb",
   "metadata": {},
   "source": [
    "-> Ecrire le programme qui permettra d'obtenir cette figure :"
   ]
  },
  {
   "cell_type": "markdown",
   "id": "6d9ae3dc",
   "metadata": {},
   "source": [
    "![](tortueSNT2.PNG)"
   ]
  },
  {
   "cell_type": "code",
   "execution_count": null,
   "id": "f93d9af9",
   "metadata": {},
   "outputs": [],
   "source": []
  }
 ],
 "metadata": {
  "kernelspec": {
   "display_name": "Python 3",
   "language": "python",
   "name": "python3"
  },
  "language_info": {
   "codemirror_mode": {
    "name": "ipython",
    "version": 3
   },
   "file_extension": ".py",
   "mimetype": "text/x-python",
   "name": "python",
   "nbconvert_exporter": "python",
   "pygments_lexer": "ipython3",
   "version": "3.7.11"
  }
 },
 "nbformat": 4,
 "nbformat_minor": 5
}
